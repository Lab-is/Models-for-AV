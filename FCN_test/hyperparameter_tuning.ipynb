{
  "nbformat": 4,
  "nbformat_minor": 0,
  "metadata": {
    "colab": {
      "name": "hyperparameter_tuning.ipynb",
      "provenance": [],
      "collapsed_sections": []
    },
    "kernelspec": {
      "name": "python3",
      "display_name": "Python 3"
    },
    "language_info": {
      "name": "python"
    },
    "accelerator": "GPU",
    "gpuClass": "standard"
  },
  "cells": [
    {
      "cell_type": "code",
      "execution_count": null,
      "metadata": {
        "colab": {
          "base_uri": "https://localhost:8080/"
        },
        "id": "4OSP8XyYAN3L",
        "outputId": "ba7744e1-15fb-46ad-fe2f-5b47088de915"
      },
      "outputs": [
        {
          "output_type": "stream",
          "name": "stdout",
          "text": [
            "Mounted at /content/drive\n"
          ]
        }
      ],
      "source": [
        "from google.colab import drive\n",
        "drive.mount('/content/drive')"
      ]
    },
    {
      "cell_type": "code",
      "source": [
        "pwd"
      ],
      "metadata": {
        "colab": {
          "base_uri": "https://localhost:8080/",
          "height": 36
        },
        "id": "FaPA3QqAAkx-",
        "outputId": "67424f77-665b-458b-81ae-9676e62e8de0"
      },
      "execution_count": null,
      "outputs": [
        {
          "output_type": "execute_result",
          "data": {
            "text/plain": [
              "'/content'"
            ],
            "application/vnd.google.colaboratory.intrinsic+json": {
              "type": "string"
            }
          },
          "metadata": {},
          "execution_count": 2
        }
      ]
    },
    {
      "cell_type": "code",
      "source": [
        "cd /content/drive/MyDrive/LABis/image-segmentation-keras"
      ],
      "metadata": {
        "colab": {
          "base_uri": "https://localhost:8080/"
        },
        "id": "fHu3AKtHAl5x",
        "outputId": "6f8f16b3-74dc-4a70-c833-9186e23dfcbc"
      },
      "execution_count": null,
      "outputs": [
        {
          "output_type": "stream",
          "name": "stdout",
          "text": [
            "/content/drive/MyDrive/LABis/image-segmentation-keras\n"
          ]
        }
      ]
    },
    {
      "cell_type": "code",
      "source": [
        "!python setup.py install"
      ],
      "metadata": {
        "id": "1JLPitgEAq_f"
      },
      "execution_count": null,
      "outputs": []
    },
    {
      "cell_type": "code",
      "source": [
        "from keras_segmentation.models.unet import mobilenet_unet\n",
        "\n",
        "model = mobilenet_unet(n_classes=51 ,  input_height=416, input_width=608  )\n",
        "\n",
        "model.train(\n",
        "    train_images =  \"/content/drive/MyDrive/LABis/dataset1/images_prepped_train/\",\n",
        "    train_annotations = \"/content/drive/MyDrive/LABis/dataset1/annotations_prepped_train/\",\n",
        "    checkpoints_path = \"/content/drive/MyDrive/LABis/checkpoints/mobilenet_unet/mobile_unet\",\n",
        "    optimizer_name = 'SGD',\n",
        "    epochs=5\n",
        ")"
      ],
      "metadata": {
        "colab": {
          "base_uri": "https://localhost:8080/"
        },
        "id": "xDTAqz4JBama",
        "outputId": "51bd27a1-3151-4e02-dad8-c1de01d9bc63"
      },
      "execution_count": null,
      "outputs": [
        {
          "output_type": "stream",
          "name": "stdout",
          "text": [
            "Verifying training dataset\n"
          ]
        },
        {
          "output_type": "stream",
          "name": "stderr",
          "text": [
            "100%|██████████| 367/367 [05:07<00:00,  1.19it/s]\n"
          ]
        },
        {
          "output_type": "stream",
          "name": "stdout",
          "text": [
            "Dataset verified! \n",
            "Epoch 1/5\n",
            "512/512 [==============================] - ETA: 0s - loss: 0.6937 - accuracy: 0.8175\n",
            "Epoch 1: saving model to /content/drive/MyDrive/LABis/checkpoints/mobilenet_unet/mobile_unet.00001\n",
            "512/512 [==============================] - 98s 161ms/step - loss: 0.6937 - accuracy: 0.8175\n",
            "Epoch 2/5\n",
            "512/512 [==============================] - ETA: 0s - loss: 0.3880 - accuracy: 0.8786\n",
            "Epoch 2: saving model to /content/drive/MyDrive/LABis/checkpoints/mobilenet_unet/mobile_unet.00002\n",
            "512/512 [==============================] - 84s 163ms/step - loss: 0.3880 - accuracy: 0.8786\n",
            "Epoch 3/5\n",
            "512/512 [==============================] - ETA: 0s - loss: 0.3210 - accuracy: 0.8974\n",
            "Epoch 3: saving model to /content/drive/MyDrive/LABis/checkpoints/mobilenet_unet/mobile_unet.00003\n",
            "512/512 [==============================] - 84s 163ms/step - loss: 0.3210 - accuracy: 0.8974\n",
            "Epoch 4/5\n",
            "512/512 [==============================] - ETA: 0s - loss: 0.2806 - accuracy: 0.9091\n",
            "Epoch 4: saving model to /content/drive/MyDrive/LABis/checkpoints/mobilenet_unet/mobile_unet.00004\n",
            "512/512 [==============================] - 84s 165ms/step - loss: 0.2806 - accuracy: 0.9091\n",
            "Epoch 5/5\n",
            "512/512 [==============================] - ETA: 0s - loss: 0.2484 - accuracy: 0.9189\n",
            "Epoch 5: saving model to /content/drive/MyDrive/LABis/checkpoints/mobilenet_unet/mobile_unet.00005\n",
            "512/512 [==============================] - 85s 165ms/step - loss: 0.2484 - accuracy: 0.9189\n"
          ]
        }
      ]
    },
    {
      "cell_type": "code",
      "source": [
        "!python -m keras_segmentation evaluate_model \\\n",
        " --checkpoints_path=\"/content/drive/MyDrive/LABis/checkpoints/mobilenet_unet/mobile_unet\"\\\n",
        " --images_path=\"/content/drive/MyDrive/LABis/dataset1/images_prepped_test/\" \\\n",
        " --segs_path=\"/content/drive/MyDrive/LABis/dataset1/annotations_prepped_test\""
      ],
      "metadata": {
        "colab": {
          "base_uri": "https://localhost:8080/"
        },
        "id": "cs2PiESODaGT",
        "outputId": "9c19dfb6-6be5-4681-9699-819d35ade731"
      },
      "execution_count": null,
      "outputs": [
        {
          "output_type": "stream",
          "name": "stdout",
          "text": [
            "2022-07-19 06:19:35.668432: W tensorflow/core/common_runtime/gpu/gpu_bfc_allocator.cc:39] Overriding allow_growth setting because the TF_FORCE_GPU_ALLOW_GROWTH environment variable is set. Original config value was 0.\n",
            "loaded weights  /content/drive/MyDrive/LABis/checkpoints/mobilenet_unet/mobile_unet.00005\n",
            "101it [01:47,  1.06s/it]\n",
            "{'frequency_weighted_IU': 0.8224442737150521, 'mean_IU': 0.13172159848198772, 'class_wise_IU': array([0.93307122, 0.82398453, 0.07050686, 0.93912193, 0.76001785,\n",
            "       0.86774092, 0.29868747, 0.3755168 , 0.77109872, 0.21086854,\n",
            "       0.42251684, 0.24466984, 0.        , 0.        , 0.        ,\n",
            "       0.        , 0.        , 0.        , 0.        , 0.        ,\n",
            "       0.        , 0.        , 0.        , 0.        , 0.        ,\n",
            "       0.        , 0.        , 0.        , 0.        , 0.        ,\n",
            "       0.        , 0.        , 0.        , 0.        , 0.        ,\n",
            "       0.        , 0.        , 0.        , 0.        , 0.        ,\n",
            "       0.        , 0.        , 0.        , 0.        , 0.        ,\n",
            "       0.        , 0.        , 0.        , 0.        , 0.        ,\n",
            "       0.        ])}\n"
          ]
        }
      ]
    },
    {
      "cell_type": "code",
      "source": [
        "from keras_segmentation.models.unet import mobilenet_unet\n",
        "\n",
        "model = mobilenet_unet(n_classes=51 ,  input_height=416, input_width=608  )\n",
        "\n",
        "model.train(\n",
        "    train_images =  \"/content/drive/MyDrive/LABis/dataset1/images_prepped_train/\",\n",
        "    train_annotations = \"/content/drive/MyDrive/LABis/dataset1/annotations_prepped_train/\",\n",
        "    checkpoints_path = \"/content/drive/MyDrive/LABis/checkpoints/mobilenet_unet/mobile_unet\",\n",
        "    optimizer_name = 'adam',\n",
        "    epochs=5\n",
        ")"
      ],
      "metadata": {
        "colab": {
          "base_uri": "https://localhost:8080/"
        },
        "id": "00wfyhD_HKBj",
        "outputId": "4feb3ea9-c6c7-44c2-a47f-168cfd8a12d5"
      },
      "execution_count": null,
      "outputs": [
        {
          "output_type": "stream",
          "name": "stdout",
          "text": [
            "Verifying training dataset\n"
          ]
        },
        {
          "output_type": "stream",
          "name": "stderr",
          "text": [
            "100%|██████████| 367/367 [00:04<00:00, 82.90it/s]\n"
          ]
        },
        {
          "output_type": "stream",
          "name": "stdout",
          "text": [
            "Dataset verified! \n",
            "Epoch 1/5\n",
            "512/512 [==============================] - ETA: 0s - loss: 0.4418 - accuracy: 0.8663\n",
            "Epoch 1: saving model to /content/drive/MyDrive/LABis/checkpoints/mobilenet_unet/mobile_unet.00001\n",
            "512/512 [==============================] - 86s 163ms/step - loss: 0.4418 - accuracy: 0.8663\n",
            "Epoch 2/5\n",
            "512/512 [==============================] - ETA: 0s - loss: 0.2185 - accuracy: 0.9268\n",
            "Epoch 2: saving model to /content/drive/MyDrive/LABis/checkpoints/mobilenet_unet/mobile_unet.00002\n",
            "512/512 [==============================] - 84s 164ms/step - loss: 0.2185 - accuracy: 0.9268\n",
            "Epoch 3/5\n",
            "512/512 [==============================] - ETA: 0s - loss: 0.1694 - accuracy: 0.9414\n",
            "Epoch 3: saving model to /content/drive/MyDrive/LABis/checkpoints/mobilenet_unet/mobile_unet.00003\n",
            "512/512 [==============================] - 84s 163ms/step - loss: 0.1694 - accuracy: 0.9414\n",
            "Epoch 4/5\n",
            "512/512 [==============================] - ETA: 0s - loss: 0.1424 - accuracy: 0.9497\n",
            "Epoch 4: saving model to /content/drive/MyDrive/LABis/checkpoints/mobilenet_unet/mobile_unet.00004\n",
            "512/512 [==============================] - 85s 166ms/step - loss: 0.1424 - accuracy: 0.9497\n",
            "Epoch 5/5\n",
            "512/512 [==============================] - ETA: 0s - loss: 0.1279 - accuracy: 0.9541\n",
            "Epoch 5: saving model to /content/drive/MyDrive/LABis/checkpoints/mobilenet_unet/mobile_unet.00005\n",
            "512/512 [==============================] - 84s 164ms/step - loss: 0.1279 - accuracy: 0.9541\n"
          ]
        }
      ]
    },
    {
      "cell_type": "code",
      "source": [
        "!python -m keras_segmentation evaluate_model \\\n",
        " --checkpoints_path=\"/content/drive/MyDrive/LABis/checkpoints/mobilenet_unet/mobile_unet\"\\\n",
        " --images_path=\"/content/drive/MyDrive/LABis/dataset1/images_prepped_test/\" \\\n",
        " --segs_path=\"/content/drive/MyDrive/LABis/dataset1/annotations_prepped_test\""
      ],
      "metadata": {
        "colab": {
          "base_uri": "https://localhost:8080/"
        },
        "id": "anN9lOZwIKLz",
        "outputId": "8b33b8a2-6cb0-4d6f-f2a2-25edfd629585"
      },
      "execution_count": null,
      "outputs": [
        {
          "output_type": "stream",
          "name": "stdout",
          "text": [
            "2022-07-19 06:31:31.230207: W tensorflow/core/common_runtime/gpu/gpu_bfc_allocator.cc:39] Overriding allow_growth setting because the TF_FORCE_GPU_ALLOW_GROWTH environment variable is set. Original config value was 0.\n",
            "loaded weights  /content/drive/MyDrive/LABis/checkpoints/mobilenet_unet/mobile_unet.00005\n",
            "101it [00:26,  3.77it/s]\n",
            "{'frequency_weighted_IU': 0.8425738306512445, 'mean_IU': 0.143506008353344, 'class_wise_IU': array([0.91736093, 0.82050345, 0.03265933, 0.95137822, 0.84305419,\n",
            "       0.88323624, 0.47420226, 0.51271023, 0.79216711, 0.33035126,\n",
            "       0.59821697, 0.16296623, 0.        , 0.        , 0.        ,\n",
            "       0.        , 0.        , 0.        , 0.        , 0.        ,\n",
            "       0.        , 0.        , 0.        , 0.        , 0.        ,\n",
            "       0.        , 0.        , 0.        , 0.        , 0.        ,\n",
            "       0.        , 0.        , 0.        , 0.        , 0.        ,\n",
            "       0.        , 0.        , 0.        , 0.        , 0.        ,\n",
            "       0.        , 0.        , 0.        , 0.        , 0.        ,\n",
            "       0.        , 0.        , 0.        , 0.        , 0.        ,\n",
            "       0.        ])}\n"
          ]
        }
      ]
    },
    {
      "cell_type": "code",
      "source": [
        "from keras_segmentation.models.unet import mobilenet_unet\n",
        "\n",
        "model = mobilenet_unet(n_classes=51 ,  input_height=416, input_width=608  )\n",
        "\n",
        "model.train(\n",
        "    train_images =  \"/content/drive/MyDrive/LABis/dataset1/images_prepped_train/\",\n",
        "    train_annotations = \"/content/drive/MyDrive/LABis/dataset1/annotations_prepped_train/\",\n",
        "    checkpoints_path = \"/content/drive/MyDrive/LABis/checkpoints/mobilenet_unet/mobile_unet\",\n",
        "    optimizer_name = 'adam',\n",
        "    batch_size = 3,\n",
        "    epochs=5\n",
        ")"
      ],
      "metadata": {
        "id": "Qx2wa-BANac9",
        "colab": {
          "base_uri": "https://localhost:8080/"
        },
        "outputId": "2d182369-2923-4cb8-eeff-70391d8aa700"
      },
      "execution_count": 3,
      "outputs": [
        {
          "output_type": "stream",
          "name": "stdout",
          "text": [
            "Downloading data from https://github.com/fchollet/deep-learning-models/releases/download/v0.6/mobilenet_1_0_224_tf_no_top.h5\n",
            "17227776/17225924 [==============================] - 0s 0us/step\n",
            "17235968/17225924 [==============================] - 0s 0us/step\n",
            "Verifying training dataset\n"
          ]
        },
        {
          "output_type": "stream",
          "name": "stderr",
          "text": [
            "100%|██████████| 367/367 [01:27<00:00,  4.18it/s]\n"
          ]
        },
        {
          "output_type": "stream",
          "name": "stdout",
          "text": [
            "Dataset verified! \n",
            "Epoch 1/5\n",
            "512/512 [==============================] - ETA: 0s - loss: 0.3832 - accuracy: 0.8844\n",
            "Epoch 1: saving model to /content/drive/MyDrive/LABis/checkpoints/mobilenet_unet/mobile_unet.00001\n",
            "512/512 [==============================] - 132s 232ms/step - loss: 0.3832 - accuracy: 0.8844\n",
            "Epoch 2/5\n",
            "512/512 [==============================] - ETA: 0s - loss: 0.1699 - accuracy: 0.9417\n",
            "Epoch 2: saving model to /content/drive/MyDrive/LABis/checkpoints/mobilenet_unet/mobile_unet.00002\n",
            "512/512 [==============================] - 117s 229ms/step - loss: 0.1699 - accuracy: 0.9417\n",
            "Epoch 3/5\n",
            "512/512 [==============================] - ETA: 0s - loss: 0.1361 - accuracy: 0.9515\n",
            "Epoch 3: saving model to /content/drive/MyDrive/LABis/checkpoints/mobilenet_unet/mobile_unet.00003\n",
            "512/512 [==============================] - 117s 228ms/step - loss: 0.1361 - accuracy: 0.9515\n",
            "Epoch 4/5\n",
            "512/512 [==============================] - ETA: 0s - loss: 0.1134 - accuracy: 0.9586\n",
            "Epoch 4: saving model to /content/drive/MyDrive/LABis/checkpoints/mobilenet_unet/mobile_unet.00004\n",
            "512/512 [==============================] - 116s 227ms/step - loss: 0.1134 - accuracy: 0.9586\n",
            "Epoch 5/5\n",
            "512/512 [==============================] - ETA: 0s - loss: 0.1029 - accuracy: 0.9619\n",
            "Epoch 5: saving model to /content/drive/MyDrive/LABis/checkpoints/mobilenet_unet/mobile_unet.00005\n",
            "512/512 [==============================] - 116s 226ms/step - loss: 0.1029 - accuracy: 0.9619\n"
          ]
        }
      ]
    },
    {
      "cell_type": "code",
      "source": [
        "!python -m keras_segmentation evaluate_model \\\n",
        " --checkpoints_path=\"/content/drive/MyDrive/LABis/checkpoints/mobilenet_unet/mobile_unet\"\\\n",
        " --images_path=\"/content/drive/MyDrive/LABis/dataset1/images_prepped_test/\" \\\n",
        " --segs_path=\"/content/drive/MyDrive/LABis/dataset1/annotations_prepped_test\""
      ],
      "metadata": {
        "colab": {
          "base_uri": "https://localhost:8080/"
        },
        "id": "fMYIWmwJRPhp",
        "outputId": "81eb395f-96a3-4aca-eaca-65164e3cf26b"
      },
      "execution_count": 4,
      "outputs": [
        {
          "output_type": "stream",
          "name": "stdout",
          "text": [
            "2022-07-20 11:06:10.743292: W tensorflow/core/common_runtime/gpu/gpu_bfc_allocator.cc:39] Overriding allow_growth setting because the TF_FORCE_GPU_ALLOW_GROWTH environment variable is set. Original config value was 0.\n",
            "loaded weights  /content/drive/MyDrive/LABis/checkpoints/mobilenet_unet/mobile_unet.00005\n",
            "101it [00:46,  2.18it/s]\n",
            "{'frequency_weighted_IU': 0.8729909878952762, 'mean_IU': 0.1560065579013848, 'class_wise_IU': array([0.93597964, 0.86203869, 0.0770346 , 0.96245717, 0.86782492,\n",
            "       0.89861602, 0.51932287, 0.6617713 , 0.81353185, 0.38570838,\n",
            "       0.68700865, 0.28504035, 0.        , 0.        , 0.        ,\n",
            "       0.        , 0.        , 0.        , 0.        , 0.        ,\n",
            "       0.        , 0.        , 0.        , 0.        , 0.        ,\n",
            "       0.        , 0.        , 0.        , 0.        , 0.        ,\n",
            "       0.        , 0.        , 0.        , 0.        , 0.        ,\n",
            "       0.        , 0.        , 0.        , 0.        , 0.        ,\n",
            "       0.        , 0.        , 0.        , 0.        , 0.        ,\n",
            "       0.        , 0.        , 0.        , 0.        , 0.        ,\n",
            "       0.        ])}\n"
          ]
        }
      ]
    },
    {
      "cell_type": "code",
      "source": [
        "from keras_segmentation.models.unet import mobilenet_unet\n",
        "\n",
        "model = mobilenet_unet(n_classes=51 ,  input_height=416, input_width=608  )\n",
        "\n",
        "model.train(\n",
        "    train_images =  \"/content/drive/MyDrive/LABis/dataset1/images_prepped_train/\",\n",
        "    train_annotations = \"/content/drive/MyDrive/LABis/dataset1/annotations_prepped_train/\",\n",
        "    checkpoints_path = \"/content/drive/MyDrive/LABis/checkpoints/mobilenet_unet/mobile_unet\",\n",
        "    optimizer_name = 'adam',\n",
        "    epochs=5,\n",
        "    batch_size = 5\n",
        ")"
      ],
      "metadata": {
        "colab": {
          "base_uri": "https://localhost:8080/"
        },
        "id": "-D56Ovg8WDVd",
        "outputId": "dda19043-d7ac-47da-d9a5-7b55067fe979"
      },
      "execution_count": 7,
      "outputs": [
        {
          "output_type": "stream",
          "name": "stdout",
          "text": [
            "Verifying training dataset\n"
          ]
        },
        {
          "output_type": "stream",
          "name": "stderr",
          "text": [
            "100%|██████████| 367/367 [00:04<00:00, 77.86it/s]\n"
          ]
        },
        {
          "output_type": "stream",
          "name": "stdout",
          "text": [
            "Dataset verified! \n",
            "Epoch 1/5\n",
            "512/512 [==============================] - ETA: 0s - loss: 0.2966 - accuracy: 0.9081\n",
            "Epoch 1: saving model to /content/drive/MyDrive/LABis/checkpoints/mobilenet_unet/mobile_unet.00001\n",
            "512/512 [==============================] - 189s 363ms/step - loss: 0.2966 - accuracy: 0.9081\n",
            "Epoch 2/5\n",
            "512/512 [==============================] - ETA: 0s - loss: 0.1374 - accuracy: 0.9510\n",
            "Epoch 2: saving model to /content/drive/MyDrive/LABis/checkpoints/mobilenet_unet/mobile_unet.00002\n",
            "512/512 [==============================] - 187s 365ms/step - loss: 0.1374 - accuracy: 0.9510\n",
            "Epoch 3/5\n",
            "512/512 [==============================] - ETA: 0s - loss: 0.1146 - accuracy: 0.9582\n",
            "Epoch 3: saving model to /content/drive/MyDrive/LABis/checkpoints/mobilenet_unet/mobile_unet.00003\n",
            "512/512 [==============================] - 187s 366ms/step - loss: 0.1146 - accuracy: 0.9582\n",
            "Epoch 4/5\n",
            "512/512 [==============================] - ETA: 0s - loss: 0.0912 - accuracy: 0.9657\n",
            "Epoch 4: saving model to /content/drive/MyDrive/LABis/checkpoints/mobilenet_unet/mobile_unet.00004\n",
            "512/512 [==============================] - 187s 366ms/step - loss: 0.0912 - accuracy: 0.9657\n",
            "Epoch 5/5\n",
            "512/512 [==============================] - ETA: 0s - loss: 0.0922 - accuracy: 0.9657\n",
            "Epoch 5: saving model to /content/drive/MyDrive/LABis/checkpoints/mobilenet_unet/mobile_unet.00005\n",
            "512/512 [==============================] - 186s 363ms/step - loss: 0.0922 - accuracy: 0.9657\n"
          ]
        }
      ]
    },
    {
      "cell_type": "code",
      "source": [
        "!python -m keras_segmentation evaluate_model \\\n",
        " --checkpoints_path=\"/content/drive/MyDrive/LABis/checkpoints/mobilenet_unet/mobile_unet\"\\\n",
        " --images_path=\"/content/drive/MyDrive/LABis/dataset1/images_prepped_test/\" \\\n",
        " --segs_path=\"/content/drive/MyDrive/LABis/dataset1/annotations_prepped_test\""
      ],
      "metadata": {
        "colab": {
          "base_uri": "https://localhost:8080/"
        },
        "id": "o2InAJn9W_tl",
        "outputId": "964e2c40-ff18-45c9-95c5-c49d871c920a"
      },
      "execution_count": 8,
      "outputs": [
        {
          "output_type": "stream",
          "name": "stdout",
          "text": [
            "2022-07-20 11:42:52.247570: W tensorflow/core/common_runtime/gpu/gpu_bfc_allocator.cc:39] Overriding allow_growth setting because the TF_FORCE_GPU_ALLOW_GROWTH environment variable is set. Original config value was 0.\n",
            "loaded weights  /content/drive/MyDrive/LABis/checkpoints/mobilenet_unet/mobile_unet.00005\n",
            "0it [00:00, ?it/s]2022-07-20 11:42:55.374770: W tensorflow/core/common_runtime/bfc_allocator.cc:343] Garbage collection: deallocate free memory regions (i.e., allocations) so that we can re-allocate a larger region to avoid OOM due to memory fragmentation. If you see this message frequently, you are running near the threshold of the available device memory and re-allocation may incur great performance overhead. You may try smaller batch sizes to observe the performance impact. Set TF_ENABLE_GPU_GARBAGE_COLLECTION=false if you'd like to disable this feature.\n",
            "101it [00:22,  4.41it/s]\n",
            "{'frequency_weighted_IU': 0.8469898062919301, 'mean_IU': 0.14766594769269045, 'class_wise_IU': array([0.93608131, 0.79445781, 0.10321424, 0.96337893, 0.85964464,\n",
            "       0.89331076, 0.38426124, 0.52806459, 0.74753835, 0.40871197,\n",
            "       0.71000982, 0.20228968, 0.        , 0.        , 0.        ,\n",
            "       0.        , 0.        , 0.        , 0.        , 0.        ,\n",
            "       0.        , 0.        , 0.        , 0.        , 0.        ,\n",
            "       0.        , 0.        , 0.        , 0.        , 0.        ,\n",
            "       0.        , 0.        , 0.        , 0.        , 0.        ,\n",
            "       0.        , 0.        , 0.        , 0.        , 0.        ,\n",
            "       0.        , 0.        , 0.        , 0.        , 0.        ,\n",
            "       0.        , 0.        , 0.        , 0.        , 0.        ,\n",
            "       0.        ])}\n"
          ]
        }
      ]
    },
    {
      "cell_type": "markdown",
      "source": [
        "#**mobilenet_unet**\n",
        "\n",
        "Optimizer: adam(default) > SGD\n",
        "\n",
        "Batch size: 3 > 5 > 2(default)"
      ],
      "metadata": {
        "id": "d3eX9y1aitdC"
      }
    }
  ]
}